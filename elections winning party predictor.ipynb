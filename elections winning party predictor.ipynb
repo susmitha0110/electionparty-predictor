{
 "cells": [
  {
   "cell_type": "code",
   "execution_count": 1,
   "metadata": {},
   "outputs": [],
   "source": [
    "import pandas as pd\n",
    "import numpy as np"
   ]
  },
  {
   "cell_type": "code",
   "execution_count": 2,
   "metadata": {},
   "outputs": [],
   "source": [
    "data=pd.read_csv('Bihar_Election_Results.csv' )"
   ]
  },
  {
   "cell_type": "code",
   "execution_count": 3,
   "metadata": {},
   "outputs": [
    {
     "data": {
      "text/html": [
       "<div>\n",
       "<style scoped>\n",
       "    .dataframe tbody tr th:only-of-type {\n",
       "        vertical-align: middle;\n",
       "    }\n",
       "\n",
       "    .dataframe tbody tr th {\n",
       "        vertical-align: top;\n",
       "    }\n",
       "\n",
       "    .dataframe thead th {\n",
       "        text-align: right;\n",
       "    }\n",
       "</style>\n",
       "<table border=\"1\" class=\"dataframe\">\n",
       "  <thead>\n",
       "    <tr style=\"text-align: right;\">\n",
       "      <th></th>\n",
       "      <th>Election Year</th>\n",
       "      <th>Position</th>\n",
       "      <th>Name</th>\n",
       "      <th>Votes</th>\n",
       "      <th>Votes %</th>\n",
       "      <th>Party</th>\n",
       "      <th>AC name</th>\n",
       "      <th>AC No</th>\n",
       "    </tr>\n",
       "  </thead>\n",
       "  <tbody>\n",
       "    <tr>\n",
       "      <th>0</th>\n",
       "      <td>2010</td>\n",
       "      <td>1</td>\n",
       "      <td>Rajesh Singh</td>\n",
       "      <td>42289</td>\n",
       "      <td>29.40%</td>\n",
       "      <td>Janata Dal (United)</td>\n",
       "      <td>Valmiki Nagar</td>\n",
       "      <td>1</td>\n",
       "    </tr>\n",
       "    <tr>\n",
       "      <th>1</th>\n",
       "      <td>2010</td>\n",
       "      <td>2</td>\n",
       "      <td>Mukesh Kumar Kushwaha</td>\n",
       "      <td>27618</td>\n",
       "      <td>19.20%</td>\n",
       "      <td>Rashtriya Janata Dal</td>\n",
       "      <td>Valmiki Nagar</td>\n",
       "      <td>1</td>\n",
       "    </tr>\n",
       "    <tr>\n",
       "      <th>2</th>\n",
       "      <td>2010</td>\n",
       "      <td>3</td>\n",
       "      <td>Dheerendra Pratap Singh</td>\n",
       "      <td>20886</td>\n",
       "      <td>14.50%</td>\n",
       "      <td>Bahujan Samaj Party</td>\n",
       "      <td>Valmiki Nagar</td>\n",
       "      <td>1</td>\n",
       "    </tr>\n",
       "    <tr>\n",
       "      <th>3</th>\n",
       "      <td>2010</td>\n",
       "      <td>4</td>\n",
       "      <td>Irshad Hussain</td>\n",
       "      <td>17747</td>\n",
       "      <td>12.40%</td>\n",
       "      <td>Indian National Congress</td>\n",
       "      <td>Valmiki Nagar</td>\n",
       "      <td>1</td>\n",
       "    </tr>\n",
       "    <tr>\n",
       "      <th>4</th>\n",
       "      <td>2010</td>\n",
       "      <td>5</td>\n",
       "      <td>Deep Narayan Mahato</td>\n",
       "      <td>14047</td>\n",
       "      <td>9.80%</td>\n",
       "      <td>Independent</td>\n",
       "      <td>Valmiki Nagar</td>\n",
       "      <td>1</td>\n",
       "    </tr>\n",
       "  </tbody>\n",
       "</table>\n",
       "</div>"
      ],
      "text/plain": [
       "  Election Year  Position                     Name  Votes Votes %  \\\n",
       "0          2010         1             Rajesh Singh  42289  29.40%   \n",
       "1          2010         2    Mukesh Kumar Kushwaha  27618  19.20%   \n",
       "2          2010         3  Dheerendra Pratap Singh  20886  14.50%   \n",
       "3          2010         4           Irshad Hussain  17747  12.40%   \n",
       "4          2010         5      Deep Narayan Mahato  14047   9.80%   \n",
       "\n",
       "                      Party        AC name  AC No  \n",
       "0       Janata Dal (United)  Valmiki Nagar      1  \n",
       "1      Rashtriya Janata Dal  Valmiki Nagar      1  \n",
       "2       Bahujan Samaj Party  Valmiki Nagar      1  \n",
       "3  Indian National Congress  Valmiki Nagar      1  \n",
       "4               Independent  Valmiki Nagar      1  "
      ]
     },
     "execution_count": 3,
     "metadata": {},
     "output_type": "execute_result"
    }
   ],
   "source": [
    "data.head()"
   ]
  },
  {
   "cell_type": "code",
   "execution_count": 4,
   "metadata": {},
   "outputs": [
    {
     "data": {
      "text/plain": [
       "<bound method NDFrame.describe of       Election Year  Position                     Name  Votes Votes %  \\\n",
       "0              2010         1             Rajesh Singh  42289  29.40%   \n",
       "1              2010         2    Mukesh Kumar Kushwaha  27618  19.20%   \n",
       "2              2010         3  Dheerendra Pratap Singh  20886  14.50%   \n",
       "3              2010         4           Irshad Hussain  17747  12.40%   \n",
       "4              2010         5      Deep Narayan Mahato  14047   9.80%   \n",
       "5              2010         6        Manoj Kumar Singh   8358   5.80%   \n",
       "6              2010         7       Saket Kumar Pathak   4428   3.10%   \n",
       "7              2010         8        Ramayan Chaudhary   1647   1.20%   \n",
       "8              2010         9           Ram Naresh Sah   1610   1.10%   \n",
       "9              2010        10      Shashi Bhusan Sahay   1334   0.90%   \n",
       "10             2010        11               Pramod Sah   1114   0.80%   \n",
       "11             2010        12       Ramashankar Prasad   1042   0.70%   \n",
       "12             2010        13                Insad Ali    835   0.60%   \n",
       "13             2010        14           Pahawari Yadaw    743   0.50%   \n",
       "14             2010         1          Bhagirathi Devi  51993  41.50%   \n",
       "15             2010         2               Naresh Ram  22211  17.70%   \n",
       "16             2010         3             Subodh Kumar  20095  16.00%   \n",
       "17             2010         4              Shambhu Ram   9080   7.30%   \n",
       "18             2010         5        Rameshvar Manjhee   4129   3.30%   \n",
       "19             2010         6              Lakshmi Ram   3825   3.10%   \n",
       "20             2010         7             Vijay Paswan   2048   1.60%   \n",
       "21             2010         8              Hiralal Ram   1863   1.50%   \n",
       "22             2010         9               Sankar Ram   1600   1.30%   \n",
       "23             2010        10            Suchindra Ram   1497   1.20%   \n",
       "24             2010        11            Parsottam Ram   1208   1.00%   \n",
       "25             2010        12             Mansa Bharti   1083   0.90%   \n",
       "26             2010        13            Sahodari Devi   1038   0.80%   \n",
       "27             2010        14           Kanchan Baitha    999   0.80%   \n",
       "28             2010        15            Ramraj Paswan    992   0.80%   \n",
       "29             2010        16               Nathu Ravi    900   0.70%   \n",
       "...             ...       ...                      ...    ...     ...   \n",
       "11213      2005-Feb         1            Kaushal Yadav  41859  47.20%   \n",
       "11214      2005-Feb         2     Sanjay Kumar Prabhat  26583  30.00%   \n",
       "11215      2005-Feb         3             Gautam Kapur  10009  11.30%   \n",
       "11216      2005-Feb         4       Umesh Prasad Yadav   2292   2.60%   \n",
       "11217      2005-Feb         5    Harish Chandra Paswan   2078   2.30%   \n",
       "11218      2005-Feb         6                 Karu Ram   1853   2.10%   \n",
       "11219      2005-Feb         7         Md. Nishar Ahmed   1703   1.90%   \n",
       "11220      2005-Feb         8           Mukhtar Sayeed   1432   1.60%   \n",
       "11221      2005-Feb         9        Shiv Nandan Kumar    874   1.00%   \n",
       "11222      2005-Feb         1             Pradip Kumar  37406  42.30%   \n",
       "11223      2005-Feb         2               Aruna Devi  36851  41.70%   \n",
       "11224      2005-Feb         3      Ajay Kumar Ravikant   3478   3.90%   \n",
       "11225      2005-Feb         4              Lalit Kumar   2370   2.70%   \n",
       "11226      2005-Feb         5   Jagdish Prasad Chauhan   1570   1.80%   \n",
       "11227      2005-Feb         6          Supendra Paswan   1421   1.60%   \n",
       "11228      2005-Feb         7                Ata Karim   1364   1.50%   \n",
       "11229      2005-Feb         8              Tanik Mochi   1046   1.20%   \n",
       "11230      2005-Feb         9         Siyasharan Singh    969   1.10%   \n",
       "11231      2005-Feb        10               Arti Sinha    731   0.80%   \n",
       "11232      2005-Feb        11               Sona Miyan    398   0.50%   \n",
       "11233      2005-Feb        12           Jainath Paswan    323   0.40%   \n",
       "11234      2005-Feb        13             Arjun Prasad    297   0.30%   \n",
       "11235      2005-Feb        14             Arvind Yadav    228   0.30%   \n",
       "11236      2005-Feb         1               Anil Singh  43276  54.00%   \n",
       "11237      2005-Feb         2            Aaditya Singh  26809  33.40%   \n",
       "11238      2005-Feb         3       Shyam Kishor Singh   4508   5.60%   \n",
       "11239      2005-Feb         4              Bipul Kumar   2123   2.70%   \n",
       "11240      2005-Feb         5     Ramesh Chandra Raman   1629   2.00%   \n",
       "11241      2005-Feb         6           Babulal Prasad    967   1.20%   \n",
       "11242      2005-Feb         7             Tripit Singh    877   1.10%   \n",
       "\n",
       "                                                   Party        AC name  AC No  \n",
       "0                                    Janata Dal (United)  Valmiki Nagar      1  \n",
       "1                                   Rashtriya Janata Dal  Valmiki Nagar      1  \n",
       "2                                    Bahujan Samaj Party  Valmiki Nagar      1  \n",
       "3                               Indian National Congress  Valmiki Nagar      1  \n",
       "4                                            Independent  Valmiki Nagar      1  \n",
       "5                              Janvadi Party (Socialist)  Valmiki Nagar      1  \n",
       "6                                            Independent  Valmiki Nagar      1  \n",
       "7                                            Independent  Valmiki Nagar      1  \n",
       "8                                            Independent  Valmiki Nagar      1  \n",
       "9                             Nationalist Congress Party  Valmiki Nagar      1  \n",
       "10                                           Independent  Valmiki Nagar      1  \n",
       "11                        Bharatiya Jantantrik Janta Dal  Valmiki Nagar      1  \n",
       "12                                           Independent  Valmiki Nagar      1  \n",
       "13                                           Independent  Valmiki Nagar      1  \n",
       "14                                 Bharatiya Janta Party       Ramnagar      2  \n",
       "15                              Indian National Congress       Ramnagar      2  \n",
       "16                            Nationalist Congress Party       Ramnagar      2  \n",
       "17                                  Rashtriya Janata Dal       Ramnagar      2  \n",
       "18     Communist Party Of India (MARXIST-LENINIST) (L...       Ramnagar      2  \n",
       "19                                   Bahujan Samaj Party       Ramnagar      2  \n",
       "20                                           Independent       Ramnagar      2  \n",
       "21                                       Samajwadi Party       Ramnagar      2  \n",
       "22                    Samajwadi Janata Party (RASHTRIYA)       Ramnagar      2  \n",
       "23                                           Independent       Ramnagar      2  \n",
       "24                                           Independent       Ramnagar      2  \n",
       "25                                           Independent       Ramnagar      2  \n",
       "26                                   Bharat Vikas Morcha       Ramnagar      2  \n",
       "27                                           Independent       Ramnagar      2  \n",
       "28                         Suheldev Bhartiya Samaj Party       Ramnagar      2  \n",
       "29                                           Independent       Ramnagar      2  \n",
       "...                                                  ...            ...    ...  \n",
       "11213                                        Independent          Jamui    241  \n",
       "11214                               Rashtriya Janata Dal          Jamui    241  \n",
       "11215                               Lok Jan Shakti Party          Jamui    241  \n",
       "11216                                        Independent          Jamui    241  \n",
       "11217                                        Independent          Jamui    241  \n",
       "11218                                        Independent          Jamui    241  \n",
       "11219                                        Independent          Jamui    241  \n",
       "11220                                Bahujan Samaj Party          Jamui    241  \n",
       "11221                                        Independent          Jamui    241  \n",
       "11222                                        Independent         Jhajha    242  \n",
       "11223                           Indian National Congress         Jhajha    242  \n",
       "11224                                Janata Dal (United)         Jhajha    242  \n",
       "11225                               Lok Jan Shakti Party         Jhajha    242  \n",
       "11226  Communist Party Of India (MARXIST-LENINIST) (L...         Jhajha    242  \n",
       "11227                                        Independent         Jhajha    242  \n",
       "11228                                        Independent         Jhajha    242  \n",
       "11229                                        Independent         Jhajha    242  \n",
       "11230                                        Independent         Jhajha    242  \n",
       "11231                                        Independent         Jhajha    242  \n",
       "11232                                Bahujan Samaj Party         Jhajha    242  \n",
       "11233                                        Independent         Jhajha    242  \n",
       "11234                                        Independent         Jhajha    242  \n",
       "11235                                        Independent         Jhajha    242  \n",
       "11236                              Bharatiya Janta Party         Chakai    243  \n",
       "11237                           Indian National Congress         Chakai    243  \n",
       "11238                           Communist Party Of India         Chakai    243  \n",
       "11239                                        Independent         Chakai    243  \n",
       "11240                                Bahujan Samaj Party         Chakai    243  \n",
       "11241                                        Independent         Chakai    243  \n",
       "11242                                        Independent         Chakai    243  \n",
       "\n",
       "[11243 rows x 8 columns]>"
      ]
     },
     "execution_count": 4,
     "metadata": {},
     "output_type": "execute_result"
    }
   ],
   "source": [
    "data.describe\n"
   ]
  },
  {
   "cell_type": "code",
   "execution_count": 5,
   "metadata": {},
   "outputs": [],
   "source": [
    "data_first= data[['Election Year','Position','Party','Votes']].values\n",
    "data_second= data[['Election Year','Position','Votes']].values"
   ]
  },
  {
   "cell_type": "code",
   "execution_count": 6,
   "metadata": {},
   "outputs": [],
   "source": [
    "data_first[1,0]\n",
    "num=data_first.shape[0]\n",
    "elec_data=np.empty([int(num),4])\n",
    "elec_data=elec_data.astype(str)"
   ]
  },
  {
   "cell_type": "code",
   "execution_count": 7,
   "metadata": {},
   "outputs": [
    {
     "data": {
      "text/plain": [
       "array(['2.5e-323', '3e-323', '3.5e-323', '4e-323'], dtype='<U32')"
      ]
     },
     "execution_count": 7,
     "metadata": {},
     "output_type": "execute_result"
    }
   ],
   "source": [
    "elec_data[1]"
   ]
  },
  {
   "cell_type": "code",
   "execution_count": 8,
   "metadata": {},
   "outputs": [
    {
     "data": {
      "text/plain": [
       "array(['2010', 2, 27618], dtype=object)"
      ]
     },
     "execution_count": 8,
     "metadata": {},
     "output_type": "execute_result"
    }
   ],
   "source": [
    "data_second[1]"
   ]
  },
  {
   "cell_type": "code",
   "execution_count": 9,
   "metadata": {},
   "outputs": [
    {
     "data": {
      "text/plain": [
       "array(['2.5e-323', '3e-323', '3.5e-323', '4e-323'], dtype='<U32')"
      ]
     },
     "execution_count": 9,
     "metadata": {},
     "output_type": "execute_result"
    }
   ],
   "source": [
    "elec_data[1]"
   ]
  },
  {
   "cell_type": "code",
   "execution_count": 10,
   "metadata": {},
   "outputs": [],
   "source": [
    "j=0;\n",
    "for i in data_first:\n",
    "    if(i[0]=='2010'):\n",
    "        elec_data[j] = i\n",
    "        j+=1\n",
    "\n",
    "        \n",
    "        "
   ]
  },
  {
   "cell_type": "code",
   "execution_count": 11,
   "metadata": {},
   "outputs": [],
   "source": [
    "elec_data= elec_data[~np.all(elec_data == '0.0', axis=1)]\n"
   ]
  },
  {
   "cell_type": "code",
   "execution_count": 12,
   "metadata": {},
   "outputs": [
    {
     "data": {
      "text/plain": [
       "array([['2010', '1', 'Janata Dal (United)', '42289'],\n",
       "       ['2010', '2', 'Rashtriya Janata Dal', '27618'],\n",
       "       ['2010', '3', 'Bahujan Samaj Party', '20886'],\n",
       "       ['2010', '4', 'Indian National Congress', '17747'],\n",
       "       ['2010', '5', 'Independent', '14047'],\n",
       "       ['2010', '6', 'Janvadi Party (Socialist)', '8358'],\n",
       "       ['2010', '7', 'Independent', '4428'],\n",
       "       ['2010', '8', 'Independent', '1647'],\n",
       "       ['2010', '9', 'Independent', '1610'],\n",
       "       ['2010', '10', 'Nationalist Congress Party', '1334'],\n",
       "       ['2010', '11', 'Independent', '1114'],\n",
       "       ['2010', '12', 'Bharatiya Jantantrik Janta Dal', '1042'],\n",
       "       ['2010', '13', 'Independent', '835'],\n",
       "       ['2010', '14', 'Independent', '743'],\n",
       "       ['2010', '1', 'Bharatiya Janta Party', '51993'],\n",
       "       ['2010', '2', 'Indian National Congress', '22211'],\n",
       "       ['2010', '3', 'Nationalist Congress Party', '20095'],\n",
       "       ['2010', '4', 'Rashtriya Janata Dal', '9080'],\n",
       "       ['2010', '5', 'Communist Party Of India (MARXIS', '4129'],\n",
       "       ['2010', '6', 'Bahujan Samaj Party', '3825'],\n",
       "       ['2010', '7', 'Independent', '2048'],\n",
       "       ['2010', '8', 'Samajwadi Party', '1863'],\n",
       "       ['2010', '9', 'Samajwadi Janata Party (RASHTRIY', '1600'],\n",
       "       ['2010', '10', 'Independent', '1497'],\n",
       "       ['2010', '11', 'Independent', '1208'],\n",
       "       ['2010', '12', 'Independent', '1083'],\n",
       "       ['2010', '13', 'Bharat Vikas Morcha', '1038'],\n",
       "       ['2010', '14', 'Independent', '999'],\n",
       "       ['2010', '15', 'Suheldev Bhartiya Samaj Party', '992'],\n",
       "       ['2010', '16', 'Independent', '900']], dtype='<U32')"
      ]
     },
     "execution_count": 12,
     "metadata": {},
     "output_type": "execute_result"
    }
   ],
   "source": [
    "elec_data[:30]"
   ]
  },
  {
   "cell_type": "code",
   "execution_count": 13,
   "metadata": {},
   "outputs": [],
   "source": [
    "elec_data[:,1]\n",
    "area1=np.zeros([15])\n",
    "area=np.zeros([15])\n",
    "area=area.astype(str)\n",
    "area1=area1.astype(str)\n"
   ]
  },
  {
   "cell_type": "code",
   "execution_count": 14,
   "metadata": {},
   "outputs": [],
   "source": [
    "lent=int(elec_data.shape[0])"
   ]
  },
  {
   "cell_type": "markdown",
   "metadata": {},
   "source": [
    "m=0\n",
    "while(m < lent):\n",
    "    if(elec_data[m][1]=='1'):\n",
    "        if(elec_data[m][3] > area1[1]):\n",
    "            area[1]=elec_data[m][2]\n",
    "            area1[1]=elec_data[m][3]\n",
    "    if(elec_data[m][1]=='2'):\n",
    "        if(elec_data[m][3] > area1[2]):\n",
    "            area[2]=elec_data[m][2]\n",
    "            area1[2]=elec_data[m][3]\n",
    "    if(elec_data[m][1]=='3'):\n",
    "        if(elec_data[m][3] > area1[3]):\n",
    "            area[3]=elec_data[m][2]\n",
    "            area1[3]=elec_data[m][3]\n",
    "    if(elec_data[m][1]=='4'):\n",
    "        if(elec_data[m][3] > area1[4]):\n",
    "            area[4]=elec_data[m][2]\n",
    "            area1[4]=elec_data[m][3]\n",
    "    if(elec_data[m][1]=='5'):\n",
    "        if(elec_data[m][3] > area1[5]):\n",
    "            area[5]=elec_data[m][2]\n",
    "            area1[5]=elec_data[m][3]\n",
    "    if(elec_data[m][1]=='6'):\n",
    "        if(elec_data[m][3] > area1[6]):\n",
    "            area[6]=elec_data[m][2]\n",
    "            area1[6]=elec_data[m][3]\n",
    "    if(elec_data[m][1]=='7'):\n",
    "        if(elec_data[m][3] > area1[7]):\n",
    "            area[7]=elec_data[m][2]\n",
    "            area1[7]=elec_data[m][3]\n",
    "    if(elec_data[m][1]=='8'):\n",
    "        if(elec_data[m][3] > area1[8]):\n",
    "            area[8]=elec_data[m][2]\n",
    "            area1[8]=elec_data[m][3]\n",
    "    if(elec_data[m][1]=='9'):\n",
    "        if(elec_data[m][3] > area1[9]):\n",
    "            area[9]=elec_data[m][2]\n",
    "            area1[9]=elec_data[m][3]\n",
    "    if(elec_data[m][1]=='10'):\n",
    "        if(elec_data[m][3] > area1[10]):\n",
    "            area[10]=elec_data[m][2]\n",
    "            area1[10]=elec_data[m][3]\n",
    "    if(elec_data[m][1]=='11'):\n",
    "        if(elec_data[m][3] > area1[8]):\n",
    "            area[11]=elec_data[m][2]\n",
    "            area1[11]=elec_data[m][3]\n",
    "    if(elec_data[m][1]=='12'):\n",
    "        if(elec_data[m][3] > area1[12]):\n",
    "            area[12]=elec_data[m][2]\n",
    "            area1[12]=elec_data[m][3]\n",
    "    if(elec_data[m][1]=='13'):\n",
    "        if(elec_data[m][3] > area1[13]):\n",
    "            area[13]=elec_data[m][2]\n",
    "            area1[13]=elec_data[m][3]\n",
    "    if(elec_data[m][1]=='14'):\n",
    "        if(elec_data[m][3] > area1[14]):\n",
    "            area[14]=elec_data[m][2]\n",
    "            area1[14]=elec_data[m][3]\n",
    "    m=m+1"
   ]
  },
  {
   "cell_type": "code",
   "execution_count": 15,
   "metadata": {},
   "outputs": [],
   "source": [
    "m=0\n",
    "while(m < lent):\n",
    "    for i in range(1,15):\n",
    "        if(elec_data[m][1]==str(i)):\n",
    "            if(elec_data[m][3] > area1[i]):\n",
    "                area[i]=elec_data[m][2]\n",
    "                area1[i]=elec_data[m][3]\n",
    "    m=m+1"
   ]
  },
  {
   "cell_type": "code",
   "execution_count": 19,
   "metadata": {},
   "outputs": [
    {
     "name": "stdout",
     "output_type": "stream",
     "text": [
      "The winning party is for position 1 Bharatiya Janta Party\n",
      "\n",
      "The winning party is for position 2 Janata Dal (United)\n",
      "\n",
      "The winning party is for position 3 Bahujan Samaj Party\n",
      "\n",
      "The winning party is for position 4 Shiv Sena\n",
      "\n",
      "The winning party is for position 5 Independent\n",
      "\n",
      "The winning party is for position 6 Independent\n",
      "\n",
      "The winning party is for position 7 Bahujan Samaj Party\n",
      "\n",
      "The winning party is for position 8 Samajwadi Party\n",
      "\n",
      "The winning party is for position 9 Samajwadi Party\n",
      "\n",
      "The winning party is for position 10 Indian Justice Party\n",
      "\n",
      "The winning party is for position 11 Communist Party Of India (MARXIS\n",
      "\n",
      "The winning party is for position 12 Janata Dal (Secular)\n",
      "\n",
      "The winning party is for position 13 Shiv Sena\n",
      "\n",
      "The winning party is for position 14 Independent\n",
      "\n"
     ]
    }
   ],
   "source": [
    "for x in range(1,15):\n",
    "    print(\"The winning party is for position \"+ str(x) +\" \"+ str(area[x]))\n"
   ]
  },
  {
   "cell_type": "code",
   "execution_count": null,
   "metadata": {},
   "outputs": [],
   "source": []
  }
 ],
 "metadata": {
  "kernelspec": {
   "display_name": "Python 3",
   "language": "python",
   "name": "python3"
  },
  "language_info": {
   "codemirror_mode": {
    "name": "ipython",
    "version": 3
   },
   "file_extension": ".py",
   "mimetype": "text/x-python",
   "name": "python",
   "nbconvert_exporter": "python",
   "pygments_lexer": "ipython3",
   "version": "3.7.3"
  }
 },
 "nbformat": 4,
 "nbformat_minor": 2
}
